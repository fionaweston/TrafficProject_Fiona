{
 "cells": [
  {
   "cell_type": "code",
   "execution_count": 12,
   "metadata": {},
   "outputs": [],
   "source": [
    "# imports and dependencies, api_key\n",
    "import pandas as pd\n",
    "import numpy as np\n",
    "import matplotlib.pyplot as plt\n",
    "import gmaps"
   ]
  },
  {
   "cell_type": "code",
   "execution_count": 13,
   "metadata": {},
   "outputs": [],
   "source": [
    "# import gmaps API key for heat map\n",
    "from config import gkey\n",
    "\n",
    "# Configure gmaps\n",
    "gmaps.configure(api_key=gkey)"
   ]
  },
  {
   "cell_type": "code",
   "execution_count": 14,
   "metadata": {},
   "outputs": [],
   "source": [
    "# file to load\n",
    "path = \"./Accident_Info.csv\""
   ]
  },
  {
   "cell_type": "code",
   "execution_count": 15,
   "metadata": {},
   "outputs": [],
   "source": [
    "\n",
    "# initial data read for San Francisco\n",
    "data = pd.read_csv( path )"
   ]
  },
  {
   "cell_type": "code",
   "execution_count": 16,
   "metadata": {},
   "outputs": [],
   "source": [
    "# Clean data of duplicates and missing values, rename columns\n",
    "df = pd.DataFrame( data )"
   ]
  },
  {
   "cell_type": "code",
   "execution_count": 17,
   "metadata": {},
   "outputs": [],
   "source": [
    "# formatting of data, NaN handling\n",
    "df = df[[\"Accident_Index\", \"Accident_Severity\",\n",
    "         \"Date\", \"Day_of_Week\",\n",
    "         \"Junction_Control\", \"Junction_Detail\",\n",
    "         \"Latitude\", \"Longitude\", \"Light_Conditions\",\n",
    "         \"Road_Surface_Conditions\", \"Speed_limit\",\n",
    "         \"Time\", \"Urban_or_Rural_Area\",\n",
    "         \"Weather_Conditions\", \"Year\"]]\n",
    "df = df.rename(index=str, columns={\"Accident_Index\": \"Accident\",\n",
    "                                   \"Accident_Severity\": \"Severity\",\n",
    "                                   \"Day_of_Week\": \"Day\",\n",
    "                                   \"Junction_Control\": \"Traffic Control\",\n",
    "                                   \"Junction_Detail\": \"Junction Type\",\n",
    "                                   \"Light_Conditions\": \"Light\",\n",
    "                                   \"Road_Surface_Conditions\": \"Road Cond.\",\n",
    "                                   \"Speed_limit\": \"Speed Limit\",\n",
    "                                   \"Urban_or_Rural_Area\": \"City Type\",\n",
    "                                   \"Weather_Conditions\": \"Weather\"})\n",
    "df = df.set_index( \"Accident\" )"
   ]
  },
  {
   "cell_type": "code",
   "execution_count": 18,
   "metadata": {},
   "outputs": [
    {
     "data": {
      "text/html": [
       "<div>\n",
       "<style scoped>\n",
       "    .dataframe tbody tr th:only-of-type {\n",
       "        vertical-align: middle;\n",
       "    }\n",
       "\n",
       "    .dataframe tbody tr th {\n",
       "        vertical-align: top;\n",
       "    }\n",
       "\n",
       "    .dataframe thead th {\n",
       "        text-align: right;\n",
       "    }\n",
       "</style>\n",
       "<table border=\"1\" class=\"dataframe\">\n",
       "  <thead>\n",
       "    <tr style=\"text-align: right;\">\n",
       "      <th></th>\n",
       "      <th>Severity</th>\n",
       "      <th>Date</th>\n",
       "      <th>Day</th>\n",
       "      <th>Traffic Control</th>\n",
       "      <th>Junction Type</th>\n",
       "      <th>Latitude</th>\n",
       "      <th>Longitude</th>\n",
       "      <th>Light</th>\n",
       "      <th>Road Cond.</th>\n",
       "      <th>Speed Limit</th>\n",
       "      <th>Time</th>\n",
       "      <th>City Type</th>\n",
       "      <th>Weather</th>\n",
       "      <th>Year</th>\n",
       "    </tr>\n",
       "    <tr>\n",
       "      <th>Accident</th>\n",
       "      <th></th>\n",
       "      <th></th>\n",
       "      <th></th>\n",
       "      <th></th>\n",
       "      <th></th>\n",
       "      <th></th>\n",
       "      <th></th>\n",
       "      <th></th>\n",
       "      <th></th>\n",
       "      <th></th>\n",
       "      <th></th>\n",
       "      <th></th>\n",
       "      <th></th>\n",
       "      <th></th>\n",
       "    </tr>\n",
       "  </thead>\n",
       "  <tbody>\n",
       "    <tr>\n",
       "      <th>200501BS00001</th>\n",
       "      <td>Serious</td>\n",
       "      <td>1/4/2005</td>\n",
       "      <td>Tuesday</td>\n",
       "      <td>Data missing or out of range</td>\n",
       "      <td>Not at junction or within 20 metres</td>\n",
       "      <td>51.489096</td>\n",
       "      <td>-0.191170</td>\n",
       "      <td>Daylight</td>\n",
       "      <td>Wet or damp</td>\n",
       "      <td>30</td>\n",
       "      <td>17:42</td>\n",
       "      <td>Urban</td>\n",
       "      <td>Raining no high winds</td>\n",
       "      <td>2005</td>\n",
       "    </tr>\n",
       "    <tr>\n",
       "      <th>200501BS00002</th>\n",
       "      <td>Slight</td>\n",
       "      <td>1/5/2005</td>\n",
       "      <td>Wednesday</td>\n",
       "      <td>Auto traffic signal</td>\n",
       "      <td>Crossroads</td>\n",
       "      <td>51.520075</td>\n",
       "      <td>-0.211708</td>\n",
       "      <td>Darkness - lights lit</td>\n",
       "      <td>Dry</td>\n",
       "      <td>30</td>\n",
       "      <td>17:36</td>\n",
       "      <td>Urban</td>\n",
       "      <td>Fine no high winds</td>\n",
       "      <td>2005</td>\n",
       "    </tr>\n",
       "    <tr>\n",
       "      <th>200501BS00003</th>\n",
       "      <td>Slight</td>\n",
       "      <td>1/6/2005</td>\n",
       "      <td>Thursday</td>\n",
       "      <td>Data missing or out of range</td>\n",
       "      <td>Not at junction or within 20 metres</td>\n",
       "      <td>51.525301</td>\n",
       "      <td>-0.206458</td>\n",
       "      <td>Darkness - lights lit</td>\n",
       "      <td>Dry</td>\n",
       "      <td>30</td>\n",
       "      <td>0:15</td>\n",
       "      <td>Urban</td>\n",
       "      <td>Fine no high winds</td>\n",
       "      <td>2005</td>\n",
       "    </tr>\n",
       "    <tr>\n",
       "      <th>200501BS00004</th>\n",
       "      <td>Slight</td>\n",
       "      <td>1/7/2005</td>\n",
       "      <td>Friday</td>\n",
       "      <td>Data missing or out of range</td>\n",
       "      <td>Not at junction or within 20 metres</td>\n",
       "      <td>51.482442</td>\n",
       "      <td>-0.173862</td>\n",
       "      <td>Daylight</td>\n",
       "      <td>Dry</td>\n",
       "      <td>30</td>\n",
       "      <td>10:35</td>\n",
       "      <td>Urban</td>\n",
       "      <td>Fine no high winds</td>\n",
       "      <td>2005</td>\n",
       "    </tr>\n",
       "    <tr>\n",
       "      <th>200501BS00005</th>\n",
       "      <td>Slight</td>\n",
       "      <td>1/10/2005</td>\n",
       "      <td>Monday</td>\n",
       "      <td>Data missing or out of range</td>\n",
       "      <td>Not at junction or within 20 metres</td>\n",
       "      <td>51.495752</td>\n",
       "      <td>-0.156618</td>\n",
       "      <td>Darkness - lighting unknown</td>\n",
       "      <td>Wet or damp</td>\n",
       "      <td>30</td>\n",
       "      <td>21:13</td>\n",
       "      <td>Urban</td>\n",
       "      <td>Fine no high winds</td>\n",
       "      <td>2005</td>\n",
       "    </tr>\n",
       "  </tbody>\n",
       "</table>\n",
       "</div>"
      ],
      "text/plain": [
       "              Severity       Date        Day               Traffic Control  \\\n",
       "Accident                                                                     \n",
       "200501BS00001  Serious   1/4/2005    Tuesday  Data missing or out of range   \n",
       "200501BS00002   Slight   1/5/2005  Wednesday           Auto traffic signal   \n",
       "200501BS00003   Slight   1/6/2005   Thursday  Data missing or out of range   \n",
       "200501BS00004   Slight   1/7/2005     Friday  Data missing or out of range   \n",
       "200501BS00005   Slight  1/10/2005     Monday  Data missing or out of range   \n",
       "\n",
       "                                     Junction Type   Latitude  Longitude  \\\n",
       "Accident                                                                   \n",
       "200501BS00001  Not at junction or within 20 metres  51.489096  -0.191170   \n",
       "200501BS00002                           Crossroads  51.520075  -0.211708   \n",
       "200501BS00003  Not at junction or within 20 metres  51.525301  -0.206458   \n",
       "200501BS00004  Not at junction or within 20 metres  51.482442  -0.173862   \n",
       "200501BS00005  Not at junction or within 20 metres  51.495752  -0.156618   \n",
       "\n",
       "                                     Light   Road Cond.  Speed Limit   Time  \\\n",
       "Accident                                                                      \n",
       "200501BS00001                     Daylight  Wet or damp           30  17:42   \n",
       "200501BS00002        Darkness - lights lit          Dry           30  17:36   \n",
       "200501BS00003        Darkness - lights lit          Dry           30   0:15   \n",
       "200501BS00004                     Daylight          Dry           30  10:35   \n",
       "200501BS00005  Darkness - lighting unknown  Wet or damp           30  21:13   \n",
       "\n",
       "              City Type                Weather  Year  \n",
       "Accident                                              \n",
       "200501BS00001     Urban  Raining no high winds  2005  \n",
       "200501BS00002     Urban     Fine no high winds  2005  \n",
       "200501BS00003     Urban     Fine no high winds  2005  \n",
       "200501BS00004     Urban     Fine no high winds  2005  \n",
       "200501BS00005     Urban     Fine no high winds  2005  "
      ]
     },
     "execution_count": 18,
     "metadata": {},
     "output_type": "execute_result"
    }
   ],
   "source": [
    "# preview of data\n",
    "df.head()"
   ]
  },
  {
   "cell_type": "markdown",
   "metadata": {},
   "source": [
    "## Subject Headline"
   ]
  },
  {
   "cell_type": "markdown",
   "metadata": {},
   "source": [
    "#  Traffic Control Method, Road Conditions, and Speed Limit v Severity"
   ]
  },
  {
   "cell_type": "markdown",
   "metadata": {},
   "source": [
    "## Trafffic Control Methods"
   ]
  },
  {
   "cell_type": "markdown",
   "metadata": {},
   "source": [
    "trend1 description / question / prompt"
   ]
  },
  {
   "cell_type": "code",
   "execution_count": 19,
   "metadata": {},
   "outputs": [],
   "source": [
    "# pull above data - CHANGE data REFERENCE ( don't rewrite master copy of data )"
   ]
  },
  {
   "cell_type": "code",
   "execution_count": 20,
   "metadata": {},
   "outputs": [
    {
     "data": {
      "text/plain": [
       "Severity  Traffic Control             \n",
       "Fatal     Authorised person                   3\n",
       "          Auto traffic signal               218\n",
       "          Data missing or out of range      434\n",
       "          Give way or uncontrolled          474\n",
       "          Stop sign                           2\n",
       "Serious   Authorised person                  25\n",
       "          Auto traffic signal              3638\n",
       "          Data missing or out of range     5572\n",
       "          Give way or uncontrolled         9086\n",
       "          Stop sign                          44\n",
       "Slight    Authorised person                 144\n",
       "          Auto traffic signal             24432\n",
       "          Data missing or out of range    34315\n",
       "          Give way or uncontrolled        66614\n",
       "          Stop sign                         221\n",
       "dtype: int64"
      ]
     },
     "execution_count": 20,
     "metadata": {},
     "output_type": "execute_result"
    }
   ],
   "source": [
    "# pull above data - CHANGE data REFERENCE ( don't rewrite master copy of data )\n",
    "severity_df = df.groupby([\"Severity\",\"Traffic Control\"]).size()\n",
    "severity_df"
   ]
  },
  {
   "cell_type": "code",
   "execution_count": 9,
   "metadata": {},
   "outputs": [
    {
     "data": {
      "image/png": "[encoded data removed]",
      "text/plain": [
       "<Figure size 720x432 with 1 Axes>"
      ]
     },
     "metadata": {
      "needs_background": "light"
     },
     "output_type": "display_data"
    }
   ],
   "source": [
    "fatal = []\n",
    "serious = []\n",
    "slight = []\n",
    "listofcontrols = [\"Authorised person\", \"Data missing or out of range\", \"Auto traffic signal\", \"Give way or uncontrolled\", \"Stop sign\", ]\n",
    "for control in listofcontrols:\n",
    "    fatal.append(severity_df['Fatal'][control])\n",
    "    serious.append(severity_df['Serious'][control])\n",
    "    slight.append(severity_df['Slight'][control])\n",
    "    \n",
    "fatal_begin = np.add(slight, serious).tolist()\n",
    "\n",
    "bar_width = .2\n",
    "\n",
    "fig, ax = plt.subplots(figsize = (10,6))\n",
    "idx = np.asarray([i for i in range(len(listofcontrols))])\n",
    "\n",
    "ax.bar(idx,slight, color=\"lightblue\", edgecolor=\"white\", width=bar_width)\n",
    "ax.bar(idx+bar_width, serious,color=\"yellow\", edgecolor=\"white\", width=bar_width)\n",
    "ax.bar(idx+bar_width*2, fatal, color=\"black\", edgecolor = \"white\", width=bar_width)\n",
    "\n",
    "ax.set_xticks(idx)\n",
    "ax.set_xticklabels(listofcontrols, fontweight='bold', fontsize='large', rotation=10)\n",
    "for tick in ax.get_yticklabels():\n",
    "    tick.set_fontsize(\"large\")\n",
    "    tick.set_fontweight(\"bold\")\n",
    "    \n",
    "ax.set_yscale('log')    \n",
    "ax.set_ylabel(\"# of accidents by severity\", fontweight='bold', fontsize='x-large')\n",
    "ax.legend(['Slight', 'Serious', 'Fatal'])\n",
    "ax.set_title(\"Severity of accidents by Traffic Control\", fontweight='bold', fontsize='xx-large')\n",
    "\n",
    "\n",
    "fig.tight_layout()\n",
    "\n",
    "plt.show()"
   ]
  },
  {
   "cell_type": "markdown",
   "metadata": {},
   "source": [
    "## Road Conditions"
   ]
  },
  {
   "cell_type": "code",
   "execution_count": 10,
   "metadata": {},
   "outputs": [
    {
     "data": {
      "text/plain": [
       "Severity  Road Cond.                  \n",
       "Fatal     Dry                                892\n",
       "          Frost or ice                        10\n",
       "          Wet or damp                        229\n",
       "Serious   Dry                              14734\n",
       "          Flood over 3cm. deep                 6\n",
       "          Frost or ice                       147\n",
       "          Snow                                42\n",
       "          Wet or damp                       3436\n",
       "Slight    Data missing or out of range         4\n",
       "          Dry                             101008\n",
       "          Flood over 3cm. deep                39\n",
       "          Frost or ice                      1069\n",
       "          Snow                               438\n",
       "          Wet or damp                      23168\n",
       "dtype: int64"
      ]
     },
     "execution_count": 10,
     "metadata": {},
     "output_type": "execute_result"
    }
   ],
   "source": [
    "# re-format/style data for trend2\n",
    "severity_df = df.groupby([\"Severity\",\"Road Cond.\"]).size()\n",
    "\n",
    "severity_df"
   ]
  },
  {
   "cell_type": "code",
   "execution_count": 11,
   "metadata": {},
   "outputs": [
    {
     "data": {
      "image/png": "[encoded data removed]",
      "text/plain": [
       "<Figure size 720x432 with 1 Axes>"
      ]
     },
     "metadata": {
      "needs_background": "light"
     },
     "output_type": "display_data"
    }
   ],
   "source": [
    "fatal = []\n",
    "serious = []\n",
    "slight = []\n",
    "listofRoadConds = [\"Snow\", \"Dry\", \"Wet or damp\", \"Flood over 3cm. deep\", \"Frost or ice\", \"Data missing or out of range\"]\n",
    "for cond in listofRoadConds:\n",
    "    if cond in severity_df['Fatal']:\n",
    "        fatal.append(severity_df['Fatal'][cond])\n",
    "    else:\n",
    "        fatal.append(0)\n",
    "    if cond in severity_df['Serious']:\n",
    "        serious.append(severity_df['Serious'][cond])\n",
    "    else:\n",
    "        serious.append(0)\n",
    "    if cond in severity_df['Slight']:\n",
    "        slight.append(severity_df['Slight'][cond])\n",
    "    else:\n",
    "        slight.append(0)\n",
    "    \n",
    "#fatal_begin = np.add(slight, serious).tolist()\n",
    "\n",
    "bar_width = .2\n",
    "fig, ax = plt.subplots(figsize = (10,6))\n",
    "idx = np.asarray([i for i in range(len(listofRoadConds))])\n",
    "\n",
    "ax.bar(idx, slight, color=\"lightblue\", edgecolor=\"white\", width=bar_width)\n",
    "ax.bar(idx+bar_width, serious, color=\"yellow\", edgecolor=\"white\", width=bar_width)\n",
    "ax.bar(idx+bar_width*2, fatal, color=\"black\", edgecolor=\"white\", width=bar_width)\n",
    "\n",
    "ax.set_xticks(idx)\n",
    "ax.set_xticklabels(listofRoadConds, fontweight='bold', fontsize='large',rotation=10)\n",
    "for tick in ax.get_yticklabels():\n",
    "    tick.set_fontsize(\"large\")\n",
    "    tick.set_fontweight(\"bold\")\n",
    "\n",
    "ax.set_yscale('log') \n",
    "ax.set_ylabel(\"# of accidents by severity\", fontweight='bold', fontsize='x-large')\n",
    "ax.legend(['Slight', 'Serious', 'Fatal'])\n",
    "ax.set_title(\"Severity of accidents by Road Surface Conditions\", fontweight='bold', fontsize='xx-large')\n",
    "\n",
    "fig.tight_layout()\n",
    "\n",
    "plt.show()"
   ]
  },
  {
   "cell_type": "markdown",
   "metadata": {},
   "source": [
    "## Speed Limit"
   ]
  },
  {
   "cell_type": "markdown",
   "metadata": {},
   "source": [
    "trend3 description / question / prompt"
   ]
  },
  {
   "cell_type": "code",
   "execution_count": 116,
   "metadata": {},
   "outputs": [
    {
     "data": {
      "text/plain": [
       "Severity  Speed Limit\n",
       "Fatal     20                  5\n",
       "          30                948\n",
       "          40                 95\n",
       "          50                 51\n",
       "          60                  6\n",
       "          70                 26\n",
       "Serious   20                 44\n",
       "          30              17093\n",
       "          40                574\n",
       "          50                466\n",
       "          60                 37\n",
       "          70                151\n",
       "Slight    10                  1\n",
       "          15                  2\n",
       "          20                240\n",
       "          30             117627\n",
       "          40               3529\n",
       "          50               3044\n",
       "          60                163\n",
       "          70               1120\n",
       "dtype: int64"
      ]
     },
     "execution_count": 116,
     "metadata": {},
     "output_type": "execute_result"
    }
   ],
   "source": [
    "# re-format/style data for trend3\n",
    "severity_df = df.groupby([\"Severity\",\"Speed Limit\"]).size()\n",
    "\n",
    "severity_df"
   ]
  },
  {
   "cell_type": "code",
   "execution_count": 115,
   "metadata": {},
   "outputs": [
    {
     "data": {
      "image/png": "[encoded data removed]",
      "text/plain": [
       "<Figure size 720x432 with 1 Axes>"
      ]
     },
     "metadata": {
      "needs_background": "light"
     },
     "output_type": "display_data"
    }
   ],
   "source": [
    "fatal = []\n",
    "serious = []\n",
    "slight = []\n",
    "listofSpeedLimit = [10,15,20,30,40,50,60,70]\n",
    "\n",
    "for SpeedLimit in listofSpeedLimit:\n",
    "    if SpeedLimit in severity_df['Fatal']:\n",
    "        fatal.append(severity_df['Fatal'][SpeedLimit])\n",
    "    else:\n",
    "        fatal.append(0)\n",
    "    if SpeedLimit in severity_df['Serious']:\n",
    "        serious.append(severity_df['Serious'][SpeedLimit])\n",
    "    else:\n",
    "        serious.append(0)\n",
    "    if SpeedLimit in severity_df['Slight']:\n",
    "        slight.append(severity_df['Slight'][SpeedLimit])\n",
    "    else:\n",
    "        slight.append(0)\n",
    "    \n",
    "fatal_begin = np.add(slight, serious).tolist()\n",
    "\n",
    "bar_width = .2\n",
    "fig, ax = plt.subplots(figsize = (10,6))\n",
    "idx = np.asarray([i for i in range(len(listofSpeedLimit))])\n",
    "\n",
    "ax.bar(idx, slight, color=\"lightblue\", edgecolor=\"white\", width=bar_width)\n",
    "ax.bar(idx+bar_width, serious, color=\"yellow\", edgecolor=\"white\", width=bar_width)\n",
    "ax.bar(idx+bar_width*2, fatal, color=\"black\", edgecolor=\"white\", width=bar_width)\n",
    "\n",
    "ax.set_xticks(idx)\n",
    "ax.set_xticklabels(listofSpeedLimit, fontweight='bold', fontsize='large')\n",
    "for tick in ax.get_yticklabels():\n",
    "    tick.set_fontsize(\"large\")\n",
    "    tick.set_fontweight(\"bold\")\n",
    "\n",
    "ax.set_yscale('log')     \n",
    "ax.set_ylabel(\"# of accidents by severity\", fontweight='bold', fontsize='x-large')\n",
    "ax.legend(['Slight', 'Serious', 'Fatal'])\n",
    "ax.set_title(\"Severity of accidents by SpeedLimit\", fontweight='bold', fontsize='xx-large')\n",
    "\n",
    "fig.tight_layout()\n",
    "\n",
    "plt.show()\n",
    "    "
   ]
  },
  {
   "cell_type": "code",
   "execution_count": null,
   "metadata": {},
   "outputs": [],
   "source": [
    "Comments: Only 3 total accidents, all slight"
   ]
  },
  {
   "cell_type": "code",
   "execution_count": null,
   "metadata": {},
   "outputs": [],
   "source": [
    "# preview of data"
   ]
  },
  {
   "cell_type": "code",
   "execution_count": null,
   "metadata": {},
   "outputs": [],
   "source": [
    "# visualization of data\n",
    "# consider the best visualization for what you want to show"
   ]
  },
  {
   "cell_type": "markdown",
   "metadata": {},
   "source": [
    "Any comments on observations?"
   ]
  }
 ],
 "metadata": {
  "kernelspec": {
   "display_name": "Python 3",
   "language": "python",
   "name": "python3"
  },
  "language_info": {
   "codemirror_mode": {
    "name": "ipython",
    "version": 3
   },
   "file_extension": ".py",
   "mimetype": "text/x-python",
   "name": "python",
   "nbconvert_exporter": "python",
   "pygments_lexer": "ipython3",
   "version": "3.7.1"
  }
 },
 "nbformat": 4,
 "nbformat_minor": 2
}
